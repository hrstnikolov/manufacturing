{
 "cells": [
  {
   "cell_type": "code",
   "execution_count": 4,
   "id": "47536874-1d8f-4d3b-bc18-725458111ff1",
   "metadata": {},
   "outputs": [],
   "source": [
    "%matplotlib inline"
   ]
  },
  {
   "cell_type": "code",
   "execution_count": 5,
   "id": "ce4a9952-e43a-4324-bf6b-87b6fb71b576",
   "metadata": {},
   "outputs": [],
   "source": [
    "import numpy as np\n",
    "import pandas as pd\n",
    "import matplotlib.pyplot as plt"
   ]
  },
  {
   "cell_type": "markdown",
   "id": "f6e6f7f4-31e5-4d25-a318-b8b536df7f08",
   "metadata": {},
   "source": [
    "# Casting"
   ]
  },
  {
   "cell_type": "markdown",
   "id": "6361ccc1-ca48-422e-ade7-e1defd1ee6a9",
   "metadata": {},
   "source": [
    "### 10.47"
   ]
  },
  {
   "cell_type": "code",
   "execution_count": 55,
   "id": "9d06b4cf-a71e-4b89-9f07-28228523e6e1",
   "metadata": {},
   "outputs": [],
   "source": [
    "def solidification_time(C, V, S, n):\n",
    "    \"\"\"\n",
    "    Solidification time.\n",
    "    Chvorinov’s rule\n",
    "    `C` - Chvorinov’s const\n",
    "    `V` - \n",
    "    `S` - surface area\n",
    "    \"\"\"\n",
    "    return C * (V / S) ** n\n",
    "\n",
    "class Cylinder:\n",
    "    def __init__(self, r, h):\n",
    "        self.r = r\n",
    "        self.h = h\n",
    "    @property\n",
    "    def cross_section(self):\n",
    "        return np.pi * self.r ** 2 \n",
    "    \n",
    "    @property\n",
    "    def surface_area(self):\n",
    "        return 2 * np.pi * self.r * (self.r + self.h)\n",
    "    \n",
    "    @property\n",
    "    def volume(self):\n",
    "        return self.cross_section * self.h\n",
    "    \n",
    "    def solidification_time(self, C, n):\n",
    "        return solidification_time(C, self.volume, self.surface_area, n)"
   ]
  },
  {
   "cell_type": "code",
   "execution_count": 56,
   "id": "be6180ec-d6d1-45c3-a817-10784c9c2831",
   "metadata": {},
   "outputs": [],
   "source": [
    "C = 3\n",
    "d = 50\n",
    "h = 125\n",
    "t = 20  # min shell thickness "
   ]
  },
  {
   "cell_type": "code",
   "execution_count": 57,
   "id": "f60c6a5e-55f1-4e37-b1c5-98fe42739fd8",
   "metadata": {},
   "outputs": [
    {
     "name": "stdout",
     "output_type": "stream",
     "text": [
      "Time to fully solidifify: 5.4 min\n",
      "Time to solidifify a smaller core cylinder: 0.3 min\n",
      "Time to solidifify an inner shell of thickness 20 mm: 5.1 min\n"
     ]
    }
   ],
   "source": [
    "def calc_solidification_times(C, d, h, t):\n",
    "    cylinder = Cylinder(d / 2, h)\n",
    "    t1 = solidification_time(C, cylinder.volume, cylinder.surface_area, 2)\n",
    "    print(f\"Time to fully solidifify: {t1/60:.1f} min\")\n",
    "\n",
    "    core =  Cylinder(d / 2 - t, h - 2 * t)\n",
    "    t2 = solidification_time(C, core.volume, core.surface_area, 2)\n",
    "    print(f\"Time to solidifify a smaller core cylinder: {t2 / 60:.1f} min\")\n",
    "\n",
    "    t3 = t1 - t2\n",
    "    print(f\"Time to solidifify an inner shell of thickness {t} mm: {t3 / 60:.1f} min\")\n",
    "\n",
    "calc_solidification_times(C, d, h, t)"
   ]
  },
  {
   "cell_type": "code",
   "execution_count": 58,
   "id": "d4ea5e11-ab5d-4c89-bbc9-7844806453b6",
   "metadata": {},
   "outputs": [
    {
     "name": "stdout",
     "output_type": "stream",
     "text": [
      "Time to fully solidifify: 10.4 min\n",
      "Time to solidifify a smaller core cylinder: 2.6 min\n",
      "Time to solidifify an inner shell of thickness 20 mm: 7.8 min\n"
     ]
    }
   ],
   "source": [
    "calc_solidification_times(C, d=75, h=125, t=20)"
   ]
  },
  {
   "cell_type": "code",
   "execution_count": 59,
   "id": "f501e748-df93-406d-b67c-a54bb263d144",
   "metadata": {},
   "outputs": [],
   "source": [
    "c = Cylinder(35/2, 85)"
   ]
  },
  {
   "cell_type": "code",
   "execution_count": 60,
   "id": "1d8fa77a-806a-4f99-bbf1-c74154480e87",
   "metadata": {},
   "outputs": [
    {
     "data": {
      "text/plain": [
       "157.9528554431886"
      ]
     },
     "execution_count": 60,
     "metadata": {},
     "output_type": "execute_result"
    }
   ],
   "source": [
    "c.solidification_time(3, 2)"
   ]
  }
 ],
 "metadata": {
  "kernelspec": {
   "display_name": "Python 3 (ipykernel)",
   "language": "python",
   "name": "python3"
  },
  "language_info": {
   "codemirror_mode": {
    "name": "ipython",
    "version": 3
   },
   "file_extension": ".py",
   "mimetype": "text/x-python",
   "name": "python",
   "nbconvert_exporter": "python",
   "pygments_lexer": "ipython3",
   "version": "3.8.13"
  }
 },
 "nbformat": 4,
 "nbformat_minor": 5
}
